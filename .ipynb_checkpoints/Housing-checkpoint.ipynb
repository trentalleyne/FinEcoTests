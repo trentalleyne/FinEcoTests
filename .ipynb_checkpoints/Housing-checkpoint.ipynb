{
 "cells": [
  {
   "cell_type": "code",
   "execution_count": 2,
   "id": "dbde21fb-9865-4412-9080-8d3abe6bf961",
   "metadata": {},
   "outputs": [],
   "source": [
    "import math\n",
    "import time\n",
    "import statistics\n",
    "import pandas as pd\n",
    "import numpy as np\n",
    "import yfinance as yf\n",
    "import datetime as dt\n",
    "import xlrd as xd\n",
    "import matplotlib.pyplot as plt\n",
    "import openpyxl\n",
    "from pandas_datareader import data as pdr\n",
    "pd.options.mode.chained_assignment = None  # default='warn'"
   ]
  },
  {
   "cell_type": "markdown",
   "id": "e71b44d6-8686-4cc7-8c1b-8cc351152cc6",
   "metadata": {
    "tags": []
   },
   "source": [
    "# Housing Affordability Index\n",
    "##### Affordability is a function of the median property price, RBA cash rate and the median wage...\n",
    "##### How long will it take to pay off a mortgage using 100% of a median wage per year with no deposit.\n",
    "### Sydney"
   ]
  },
  {
   "cell_type": "code",
   "execution_count": 3,
   "id": "cbc8e37e-1e36-4d6c-b944-353b148bf3d1",
   "metadata": {},
   "outputs": [],
   "source": [
    "medianPrice = pd.ExcelFile('data/median price.xls')\n",
    "mP = pd.read_excel(medianPrice, 'Data1')\n",
    "\n",
    "cashRate = pd.ExcelFile('data/RBA Cash Rate.xls')\n",
    "cR = pd.read_excel(cashRate, 'Sheet1')\n",
    "\n",
    "medianIncome = pd.ExcelFile('data/Earnings.xls')\n",
    "mI = pd.read_excel(medianIncome, 'Table 1c.1')\n",
    "\n",
    "weeklyRent = pd.ExcelFile('data/WeeklyRents.xlsx')\n",
    "wR = pd.read_excel(weeklyRent, 'Sheet1')"
   ]
  },
  {
   "cell_type": "markdown",
   "id": "d8b8ee4b-af0a-455b-b372-7fc2fb38b6c8",
   "metadata": {},
   "source": [
    "## Logic\n",
    "##### Graph how long does it take to repay a loan with a no deposit on a median price house, using 100% of the median wage to repay it each year, using interest rates from the RBA.\n",
    "##### If its begining to take a longer time to repay loans we know it's getting more unafordable."
   ]
  },
  {
   "cell_type": "code",
   "execution_count": 4,
   "id": "eb0aff5c-5461-41a3-9deb-e1ada6a8fe68",
   "metadata": {},
   "outputs": [],
   "source": [
    "#Step 1: make a dataframe with all the data needed to do this\n",
    "df = pd.DataFrame(index=range(18), columns=['Year', 'Median Income', 'Median House Price', 'RBA Cash Rate', 'Years to pay mortgage']).fillna(0)\n",
    "\n",
    "#years\n",
    "year = 2004\n",
    "for i in df.index:\n",
    "    df['Year'][i] = year\n",
    "    year += 1\n",
    "df = df.set_index('Year')"
   ]
  },
  {
   "cell_type": "code",
   "execution_count": 5,
   "id": "8ae1dba2-bbb4-42ba-8d9f-d4b8d61ba41e",
   "metadata": {},
   "outputs": [],
   "source": [
    "#Median Income\n",
    "incomes = []\n",
    "for i in mI.index:\n",
    "    if i > 6 and i < 24:\n",
    "        incomes.append(mI.iloc[i, [1]].values)\n",
    "incomes.append(incomes[16] *1.03)\n",
    "df['Median Income'] = incomes\n",
    "df['Median Income'] = df['Median Income']*52"
   ]
  },
  {
   "cell_type": "code",
   "execution_count": 6,
   "id": "53aaa477-5cd2-4523-ae7f-24735746fef5",
   "metadata": {},
   "outputs": [],
   "source": [
    "#Median House Prices\n",
    "prices = []\n",
    "for i in mP.index:\n",
    "    if i > 15 and i%4 == 0 and i < 22*4-1:\n",
    "        #pass into array\n",
    "        prices.append(mP.iloc[i, [1]].values)\n",
    "df['Median House Price'] = prices\n",
    "df['Median House Price'] = df['Median House Price'] * 1000"
   ]
  },
  {
   "cell_type": "code",
   "execution_count": 7,
   "id": "5839c2f0-5ece-4ed3-83cf-5f1341f43f6f",
   "metadata": {},
   "outputs": [],
   "source": [
    "#Median Rent\n",
    "rents = []\n",
    "for i in wR.index:\n",
    "    if i < 12:\n",
    "        rents.append(wR.iloc[i, [1]].values)\n",
    "df['Median Rents'] = 0\n",
    "df.iloc[10:,[4]] = rents\n",
    "df['Median Rents'] = df['Median Rents'] * 52"
   ]
  },
  {
   "cell_type": "code",
   "execution_count": 8,
   "id": "4855fcc8-00f5-4383-aede-cfe2e431cf34",
   "metadata": {},
   "outputs": [],
   "source": [
    "#RBA Cash Rate\n",
    "rates = []\n",
    "count = 11\n",
    "for i in cR.index:\n",
    "    if i > 164:\n",
    "        if count%11 == 0 and count < 11*19:\n",
    "            rates.append(cR.iloc[i, [2]].values)\n",
    "        count += 1\n",
    "df['RBA Cash Rate'] = rates\n",
    "df['RBA Cash Rate'] = df['RBA Cash Rate'] / 100"
   ]
  },
  {
   "cell_type": "markdown",
   "id": "a7c74eb6-57b4-4d1a-82fb-f938b9344932",
   "metadata": {},
   "source": [
    "$\\huge\n",
    "n = \\frac {log(\\frac{1}{-(\\frac{PV \\times i}{CF}-1)})}{log(1+i)}\n",
    "$\n",
    "##### where n = years, PV = present value, i = RBA cash rate, CF = median yearly income"
   ]
  },
  {
   "cell_type": "markdown",
   "id": "01e8618e-5dfe-4618-919d-ad897b37a7b8",
   "metadata": {},
   "source": [
    "$\\huge\n",
    "r_A = \\frac{\\sum_{i = 1}^{n}{(ln(\\frac{V_e}{V_s}) \\div n)}}{i}\n",
    "$"
   ]
  },
  {
   "cell_type": "code",
   "execution_count": 9,
   "id": "a35b525e-b6a4-485a-87f5-88f9d531f64c",
   "metadata": {},
   "outputs": [],
   "source": [
    "df['Years to pay mortgage'] = df['Years to pay mortgage'].astype(float)\n",
    "for i in df.index:\n",
    "    df['Years to pay mortgage'][i] = math.log(1/-((df['Median House Price'][i]*df['RBA Cash Rate'][i]/df['Median Income'][i])-1)) / math.log(1+df['RBA Cash Rate'][i])"
   ]
  },
  {
   "cell_type": "code",
   "execution_count": 10,
   "id": "2a96c9d6-41ee-4640-963c-1f392f3a0c59",
   "metadata": {},
   "outputs": [],
   "source": [
    "#need another row for 2021 to show effects of the 0.1% rba cash rate..."
   ]
  },
  {
   "cell_type": "code",
   "execution_count": 11,
   "id": "d5e96479-57be-44c3-b9a6-37b6331a271d",
   "metadata": {},
   "outputs": [],
   "source": [
    "df['PE Ratio'] = 0.0\n",
    "for i in df.index:\n",
    "    if i > 2013:\n",
    "        df['PE Ratio'][i] = df['Median House Price'][i] / df['Median Rents'][i]"
   ]
  },
  {
   "cell_type": "code",
   "execution_count": 18,
   "id": "624be118-8587-46dd-8382-678332129c63",
   "metadata": {},
   "outputs": [],
   "source": [
    "df = df.astype(float)"
   ]
  },
  {
   "cell_type": "code",
   "execution_count": 20,
   "id": "040a0e30-7292-401c-be9b-70d116785480",
   "metadata": {},
   "outputs": [
    {
     "data": {
      "text/html": [
       "<div>\n",
       "<style scoped>\n",
       "    .dataframe tbody tr th:only-of-type {\n",
       "        vertical-align: middle;\n",
       "    }\n",
       "\n",
       "    .dataframe tbody tr th {\n",
       "        vertical-align: top;\n",
       "    }\n",
       "\n",
       "    .dataframe thead th {\n",
       "        text-align: right;\n",
       "    }\n",
       "</style>\n",
       "<table border=\"1\" class=\"dataframe\">\n",
       "  <thead>\n",
       "    <tr style=\"text-align: right;\">\n",
       "      <th></th>\n",
       "      <th>Median Income</th>\n",
       "      <th>Median House Price</th>\n",
       "      <th>RBA Cash Rate</th>\n",
       "      <th>Years to pay mortgage</th>\n",
       "      <th>Median Rents</th>\n",
       "      <th>PE Ratio</th>\n",
       "    </tr>\n",
       "    <tr>\n",
       "      <th>Year</th>\n",
       "      <th></th>\n",
       "      <th></th>\n",
       "      <th></th>\n",
       "      <th></th>\n",
       "      <th></th>\n",
       "      <th></th>\n",
       "    </tr>\n",
       "  </thead>\n",
       "  <tbody>\n",
       "    <tr>\n",
       "      <th>2004</th>\n",
       "      <td>44200.00000</td>\n",
       "      <td>520000.0</td>\n",
       "      <td>0.0525</td>\n",
       "      <td>18.789200</td>\n",
       "      <td>0.0</td>\n",
       "      <td>0.000000</td>\n",
       "    </tr>\n",
       "    <tr>\n",
       "      <th>2005</th>\n",
       "      <td>46800.00000</td>\n",
       "      <td>515000.0</td>\n",
       "      <td>0.0550</td>\n",
       "      <td>17.359944</td>\n",
       "      <td>0.0</td>\n",
       "      <td>0.000000</td>\n",
       "    </tr>\n",
       "    <tr>\n",
       "      <th>2006</th>\n",
       "      <td>48428.43200</td>\n",
       "      <td>500000.0</td>\n",
       "      <td>0.0550</td>\n",
       "      <td>15.669900</td>\n",
       "      <td>0.0</td>\n",
       "      <td>0.000000</td>\n",
       "    </tr>\n",
       "    <tr>\n",
       "      <th>2007</th>\n",
       "      <td>51845.76800</td>\n",
       "      <td>500000.0</td>\n",
       "      <td>0.0625</td>\n",
       "      <td>15.227933</td>\n",
       "      <td>0.0</td>\n",
       "      <td>0.000000</td>\n",
       "    </tr>\n",
       "    <tr>\n",
       "      <th>2008</th>\n",
       "      <td>52000.00000</td>\n",
       "      <td>540000.0</td>\n",
       "      <td>0.0725</td>\n",
       "      <td>19.972175</td>\n",
       "      <td>0.0</td>\n",
       "      <td>0.000000</td>\n",
       "    </tr>\n",
       "    <tr>\n",
       "      <th>2009</th>\n",
       "      <td>54964.00000</td>\n",
       "      <td>468000.0</td>\n",
       "      <td>0.0300</td>\n",
       "      <td>9.978812</td>\n",
       "      <td>0.0</td>\n",
       "      <td>0.000000</td>\n",
       "    </tr>\n",
       "    <tr>\n",
       "      <th>2010</th>\n",
       "      <td>57200.00000</td>\n",
       "      <td>595000.0</td>\n",
       "      <td>0.0425</td>\n",
       "      <td>14.020486</td>\n",
       "      <td>0.0</td>\n",
       "      <td>0.000000</td>\n",
       "    </tr>\n",
       "    <tr>\n",
       "      <th>2011</th>\n",
       "      <td>59800.00000</td>\n",
       "      <td>620000.0</td>\n",
       "      <td>0.0475</td>\n",
       "      <td>14.614569</td>\n",
       "      <td>0.0</td>\n",
       "      <td>0.000000</td>\n",
       "    </tr>\n",
       "    <tr>\n",
       "      <th>2012</th>\n",
       "      <td>62192.00000</td>\n",
       "      <td>533000.0</td>\n",
       "      <td>0.0425</td>\n",
       "      <td>10.881979</td>\n",
       "      <td>0.0</td>\n",
       "      <td>0.000000</td>\n",
       "    </tr>\n",
       "    <tr>\n",
       "      <th>2013</th>\n",
       "      <td>62400.00000</td>\n",
       "      <td>640000.0</td>\n",
       "      <td>0.0300</td>\n",
       "      <td>12.440449</td>\n",
       "      <td>0.0</td>\n",
       "      <td>0.000000</td>\n",
       "    </tr>\n",
       "    <tr>\n",
       "      <th>2014</th>\n",
       "      <td>65780.00000</td>\n",
       "      <td>745000.0</td>\n",
       "      <td>0.0250</td>\n",
       "      <td>13.480785</td>\n",
       "      <td>21580.0</td>\n",
       "      <td>34.522706</td>\n",
       "    </tr>\n",
       "    <tr>\n",
       "      <th>2015</th>\n",
       "      <td>66612.00000</td>\n",
       "      <td>816000.0</td>\n",
       "      <td>0.0225</td>\n",
       "      <td>14.491624</td>\n",
       "      <td>22360.0</td>\n",
       "      <td>36.493739</td>\n",
       "    </tr>\n",
       "    <tr>\n",
       "      <th>2016</th>\n",
       "      <td>67600.00000</td>\n",
       "      <td>915000.0</td>\n",
       "      <td>0.0200</td>\n",
       "      <td>15.941516</td>\n",
       "      <td>23400.0</td>\n",
       "      <td>39.102564</td>\n",
       "    </tr>\n",
       "    <tr>\n",
       "      <th>2017</th>\n",
       "      <td>68900.00000</td>\n",
       "      <td>985500.0</td>\n",
       "      <td>0.0150</td>\n",
       "      <td>16.220354</td>\n",
       "      <td>24440.0</td>\n",
       "      <td>40.323241</td>\n",
       "    </tr>\n",
       "    <tr>\n",
       "      <th>2018</th>\n",
       "      <td>72800.00000</td>\n",
       "      <td>1029000.0</td>\n",
       "      <td>0.0150</td>\n",
       "      <td>16.004285</td>\n",
       "      <td>23920.0</td>\n",
       "      <td>43.018395</td>\n",
       "    </tr>\n",
       "    <tr>\n",
       "      <th>2019</th>\n",
       "      <td>74984.00000</td>\n",
       "      <td>940000.0</td>\n",
       "      <td>0.0150</td>\n",
       "      <td>13.990850</td>\n",
       "      <td>23920.0</td>\n",
       "      <td>39.297659</td>\n",
       "    </tr>\n",
       "    <tr>\n",
       "      <th>2020</th>\n",
       "      <td>77696.78800</td>\n",
       "      <td>985000.0</td>\n",
       "      <td>0.0025</td>\n",
       "      <td>12.898830</td>\n",
       "      <td>23920.0</td>\n",
       "      <td>41.178930</td>\n",
       "    </tr>\n",
       "    <tr>\n",
       "      <th>2021</th>\n",
       "      <td>80027.69164</td>\n",
       "      <td>1025000.0</td>\n",
       "      <td>0.0010</td>\n",
       "      <td>12.897241</td>\n",
       "      <td>26000.0</td>\n",
       "      <td>39.423077</td>\n",
       "    </tr>\n",
       "  </tbody>\n",
       "</table>\n",
       "</div>"
      ],
      "text/plain": [
       "      Median Income  Median House Price  RBA Cash Rate  Years to pay mortgage  \\\n",
       "Year                                                                            \n",
       "2004    44200.00000            520000.0         0.0525              18.789200   \n",
       "2005    46800.00000            515000.0         0.0550              17.359944   \n",
       "2006    48428.43200            500000.0         0.0550              15.669900   \n",
       "2007    51845.76800            500000.0         0.0625              15.227933   \n",
       "2008    52000.00000            540000.0         0.0725              19.972175   \n",
       "2009    54964.00000            468000.0         0.0300               9.978812   \n",
       "2010    57200.00000            595000.0         0.0425              14.020486   \n",
       "2011    59800.00000            620000.0         0.0475              14.614569   \n",
       "2012    62192.00000            533000.0         0.0425              10.881979   \n",
       "2013    62400.00000            640000.0         0.0300              12.440449   \n",
       "2014    65780.00000            745000.0         0.0250              13.480785   \n",
       "2015    66612.00000            816000.0         0.0225              14.491624   \n",
       "2016    67600.00000            915000.0         0.0200              15.941516   \n",
       "2017    68900.00000            985500.0         0.0150              16.220354   \n",
       "2018    72800.00000           1029000.0         0.0150              16.004285   \n",
       "2019    74984.00000            940000.0         0.0150              13.990850   \n",
       "2020    77696.78800            985000.0         0.0025              12.898830   \n",
       "2021    80027.69164           1025000.0         0.0010              12.897241   \n",
       "\n",
       "      Median Rents   PE Ratio  \n",
       "Year                           \n",
       "2004           0.0   0.000000  \n",
       "2005           0.0   0.000000  \n",
       "2006           0.0   0.000000  \n",
       "2007           0.0   0.000000  \n",
       "2008           0.0   0.000000  \n",
       "2009           0.0   0.000000  \n",
       "2010           0.0   0.000000  \n",
       "2011           0.0   0.000000  \n",
       "2012           0.0   0.000000  \n",
       "2013           0.0   0.000000  \n",
       "2014       21580.0  34.522706  \n",
       "2015       22360.0  36.493739  \n",
       "2016       23400.0  39.102564  \n",
       "2017       24440.0  40.323241  \n",
       "2018       23920.0  43.018395  \n",
       "2019       23920.0  39.297659  \n",
       "2020       23920.0  41.178930  \n",
       "2021       26000.0  39.423077  "
      ]
     },
     "execution_count": 20,
     "metadata": {},
     "output_type": "execute_result"
    }
   ],
   "source": [
    "df"
   ]
  },
  {
   "cell_type": "markdown",
   "id": "160ba4c6-a550-43e8-8e1c-c799cce31519",
   "metadata": {},
   "source": [
    "# Results\n",
    "##### Using Sydney prices but NSW wages...\n",
    "##### Need more data for the rest of 2021... \n",
    "##### Also, this shows it as if interest rates were to stay the same, and incomes too..."
   ]
  },
  {
   "cell_type": "code",
   "execution_count": 21,
   "id": "ead4428f-b7bb-4a07-a0cd-b0bfc951115a",
   "metadata": {},
   "outputs": [
    {
     "data": {
      "text/plain": [
       "<AxesSubplot:title={'center':'Housing Affordability Index'}, xlabel='Year', ylabel='Mortgage Years'>"
      ]
     },
     "execution_count": 21,
     "metadata": {},
     "output_type": "execute_result"
    },
    {
     "data": {
      "image/png": "[encoded data removed]",
      "text/plain": [
       "<Figure size 1440x360 with 1 Axes>"
      ]
     },
     "metadata": {
      "needs_background": "light"
     },
     "output_type": "display_data"
    }
   ],
   "source": [
    "df['Years to pay mortgage'].plot(title = 'Housing Affordability Index', ylabel = 'Mortgage Years', figsize=(20,5))"
   ]
  },
  {
   "cell_type": "code",
   "execution_count": 32,
   "id": "d6955c9a-8da2-4508-8346-c6f8d6bcadaa",
   "metadata": {},
   "outputs": [
    {
     "data": {
      "text/plain": [
       "(400000.0, 1200000.0)"
      ]
     },
     "execution_count": 32,
     "metadata": {},
     "output_type": "execute_result"
    },
    {
     "data": {
      "image/png": "[encoded data removed]",
      "text/plain": [
       "<Figure size 1440x360 with 1 Axes>"
      ]
     },
     "metadata": {
      "needs_background": "light"
     },
     "output_type": "display_data"
    }
   ],
   "source": [
    "ax = df['Median House Price'].plot(title = 'Median House Prices', ylabel = 'Price (millions)', figsize=(20,5))\n",
    "ax.set_ylim(400000,1200000)"
   ]
  },
  {
   "cell_type": "markdown",
   "id": "03b620f8-6256-4ac8-a9b1-c38152daa7dc",
   "metadata": {},
   "source": [
    "# Housing PE Graph\n",
    "#### Challenge = finding median rental data"
   ]
  },
  {
   "cell_type": "code",
   "execution_count": 65,
   "id": "ad017b23-d2d4-47fd-bb49-8ac75ced9b50",
   "metadata": {},
   "outputs": [
    {
     "data": {
      "text/plain": [
       "<AxesSubplot:title={'center':'PE Ratio'}, xlabel='Year', ylabel='Price x'>"
      ]
     },
     "execution_count": 65,
     "metadata": {},
     "output_type": "execute_result"
    },
    {
     "data": {
      "image/png": "[encoded data removed]",
      "text/plain": [
       "<Figure size 432x288 with 1 Axes>"
      ]
     },
     "metadata": {
      "needs_background": "light"
     },
     "output_type": "display_data"
    }
   ],
   "source": [
    "df.iloc[10:,[5]].plot(title = 'PE Ratio', ylabel = 'Price x')"
   ]
  },
  {
   "cell_type": "code",
   "execution_count": null,
   "id": "417c318c-279a-4e30-8304-6017bce4ca01",
   "metadata": {},
   "outputs": [],
   "source": []
  }
 ],
 "metadata": {
  "kernelspec": {
   "display_name": "Python 3 (ipykernel)",
   "language": "python",
   "name": "python3"
  },
  "language_info": {
   "codemirror_mode": {
    "name": "ipython",
    "version": 3
   },
   "file_extension": ".py",
   "mimetype": "text/x-python",
   "name": "python",
   "nbconvert_exporter": "python",
   "pygments_lexer": "ipython3",
   "version": "3.9.6"
  }
 },
 "nbformat": 4,
 "nbformat_minor": 5
}
