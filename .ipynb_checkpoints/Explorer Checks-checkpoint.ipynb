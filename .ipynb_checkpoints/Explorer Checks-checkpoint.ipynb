{
 "cells": [
  {
   "cell_type": "code",
   "execution_count": 1,
   "id": "c1b7b3d7-1dc9-4bff-8bcc-4ca3c52ea108",
   "metadata": {},
   "outputs": [],
   "source": [
    "import pandas as pd\n",
    "import numpy as np\n",
    "from numpy import nan\n",
    "\n",
    "from selenium import webdriver\n",
    "from selenium.webdriver.common.by import By\n",
    "from selenium.webdriver.common.keys import Keys\n",
    "from selenium.webdriver.chrome.service import Service\n",
    "\n",
    "from selenium.webdriver import ActionChains\n",
    "from selenium.webdriver.common.by import By\n",
    "from webdriver_manager.chrome import ChromeDriverManager\n",
    "from selenium.webdriver.support.ui import WebDriverWait\n",
    "from selenium.webdriver.support import expected_conditions as EC\n",
    "import time\n",
    "\n",
    "import re\n",
    "\n",
    "from selenium import webdriver\n",
    "from selenium.webdriver.chrome.options import Options"
   ]
  },
  {
   "cell_type": "code",
   "execution_count": 2,
   "id": "75ae720b-5075-4728-8a8a-c621175735bf",
   "metadata": {},
   "outputs": [],
   "source": [
    "options = Options()\n",
    "options.page_load_strategy = 'none'"
   ]
  },
  {
   "cell_type": "markdown",
   "id": "14104b6d-60bd-40ad-87cd-08b75eed992d",
   "metadata": {},
   "source": [
    "# Mintscan - Akash, Osmosis, Dydx"
   ]
  },
  {
   "cell_type": "code",
   "execution_count": 28,
   "id": "16520d77-6190-4c3e-8e8b-15ef94d05f46",
   "metadata": {},
   "outputs": [
    {
     "name": "stdout",
     "output_type": "stream",
     "text": [
      "https://www.mintscan.io/akash/validators/akashvaloper1tuhcm32j4dphqvvt359mquhsa56t78msjd4f5c\n",
      "Active\n",
      "100.00%\n",
      "Current: 15,181,017\n",
      "https://www.mintscan.io/osmosis/validators/osmovaloper1q6xc9x054z9y7ll7k740j2cvdsllsfhs5rxyaj\n",
      "Active\n",
      "99.40%\n",
      "Current: 14,001,023\n",
      "https://www.mintscan.io/dydx/validators/dydxvaloper1m7cz0m5mmrc9j5crxjjk5p39nv4kyednjz8c7e\n",
      "Active\n",
      "97.40%\n",
      "Current: 9,473,999\n"
     ]
    }
   ],
   "source": [
    "mintUrls = [\n",
    "    \"https://www.mintscan.io/akash/validators/akashvaloper1tuhcm32j4dphqvvt359mquhsa56t78msjd4f5c\",\n",
    "    \"https://www.mintscan.io/osmosis/validators/osmovaloper1q6xc9x054z9y7ll7k740j2cvdsllsfhs5rxyaj\",\n",
    "    \"https://www.mintscan.io/dydx/validators/dydxvaloper1m7cz0m5mmrc9j5crxjjk5p39nv4kyednjz8c7e\"\n",
    "]\n",
    "\n",
    "service = webdriver.ChromeService()\n",
    "driver = webdriver.Chrome(service=service)\n",
    "\n",
    "for i in mintUrls:\n",
    "    print(i)\n",
    "    driver.get(i)\n",
    "    #time.sleep(5\n",
    "    active_Xpath = '//*[@id=\"content-root\"]/div[1]/div/div[1]/div[1]/section/div/div/div[2]/div[1]/div[1]/div/div[3]/div/div/div/div/div/div[2]/div/div'\n",
    "    uptime_Xpath = '//*[@id=\"content-root\"]/div[1]/div/div[1]/div[1]/section/div/div/div[2]/section/div/div/div[6]/div/div/div/div[2]/div/div[2]/div'\n",
    "    currentblock_Xpath = '//*[@id=\"content-root\"]/div[1]/div/div[1]/div[4]/div/div[3]/section/div/section/div/div/div/div[4]/div[3]/div'\n",
    "    try:\n",
    "        active_text = WebDriverWait(driver, 10).until(EC.presence_of_element_located((By.XPATH, active_Xpath))).text\n",
    "        print(active_text)\n",
    "        uptime_text = WebDriverWait(driver, 10).until(EC.presence_of_element_located((By.XPATH, uptime_Xpath))).text\n",
    "        print(uptime_text)\n",
    "        currentblock_text = WebDriverWait(driver, 10).until(EC.presence_of_element_located((By.XPATH, currentblock_Xpath))).text\n",
    "        print(currentblock_text)\n",
    "    except:\n",
    "        print(\"Something failed\")\n",
    "        \n",
    "driver.quit()"
   ]
  },
  {
   "cell_type": "markdown",
   "id": "b2e788bc-44bc-491c-880b-a5de4f166541",
   "metadata": {},
   "source": [
    "# Terra"
   ]
  },
  {
   "cell_type": "code",
   "execution_count": 23,
   "id": "ca102788-fd9f-46b6-96a9-727ae21ba3a4",
   "metadata": {},
   "outputs": [
    {
     "name": "stdout",
     "output_type": "stream",
     "text": [
      "99.9%\n",
      "-20.0\n"
     ]
    }
   ],
   "source": [
    "url = \"https://analytics.smartstake.io/terra/val/terravaloper14yeuqqg2e2fc2mcrghuqxh0w43xshpzrhnhz86\"\n",
    "active_Xpath = '//*[@id=\"page-wrap\"]/div/div[5]/div/div[2]/table/tbody/tr[1]/td[4]/span/span'\n",
    "votechange_Xpath = '//*[@id=\"page-wrap\"]/div/div[4]/div/div[1]/table/tbody/tr[5]/td[2]/a/span'\n",
    "\n",
    "service = webdriver.ChromeService()\n",
    "driver = webdriver.Chrome(service=service)\n",
    "driver.get(url)\n",
    "\n",
    "try:\n",
    "    uptime = WebDriverWait(driver, 10).until(EC.presence_of_element_located((By.XPATH, active_Xpath))).text\n",
    "    print(uptime)\n",
    "    votingchange = WebDriverWait(driver, 10).until(EC.presence_of_element_located((By.XPATH, votechange_Xpath))).text\n",
    "    print(votingchange)\n",
    "except:\n",
    "        print(\"Something failed\")\n",
    "\n",
    "driver.quit()"
   ]
  },
  {
   "cell_type": "markdown",
   "id": "d04e5b89-27ef-45ed-85c6-cc0020330685",
   "metadata": {},
   "source": [
    "# Chainflip"
   ]
  },
  {
   "cell_type": "code",
   "execution_count": 25,
   "id": "0b81abd4-af00-446f-8f9b-523d46a90b33",
   "metadata": {},
   "outputs": [
    {
     "name": "stdout",
     "output_type": "stream",
     "text": [
      "2880 / 2880\n"
     ]
    }
   ],
   "source": [
    "url = \"https://scan.chainflip.io/validators/cFP8tG5RSa8U6CUrgDRVk8kqCRb6hSKMyQCTs9GbJNFU8QbCT\"\n",
    "rep_Xpath = '//*[@id=\"__next\"]/div/div[2]/div[1]/div[2]/div/div/div[1]/div[2]/div[4]/div[2]'\n",
    "\n",
    "service = webdriver.ChromeService()\n",
    "driver = webdriver.Chrome(service=service)\n",
    "driver.get(url)\n",
    "\n",
    "try:\n",
    "    rep = WebDriverWait(driver, 10).until(EC.presence_of_element_located((By.XPATH, rep_Xpath))).text\n",
    "    print(rep)\n",
    "except:\n",
    "        print(\"Something failed\")\n",
    "\n",
    "driver.quit()"
   ]
  },
  {
   "cell_type": "markdown",
   "id": "7c1d84cc-1993-4919-be82-59b7790409ab",
   "metadata": {},
   "source": [
    "# Avalanche"
   ]
  },
  {
   "cell_type": "code",
   "execution_count": 26,
   "id": "6d49fdf2-9c97-45ce-b288-74736c95e213",
   "metadata": {},
   "outputs": [
    {
     "name": "stdout",
     "output_type": "stream",
     "text": [
      "100%\n"
     ]
    }
   ],
   "source": [
    "url = \"https://avascan.info/staking/validator/NodeID-D12qpTYhB3feogxvMBzS1QPvwyKyhRK8G\"\n",
    "success_Xpath = '//*[@id=\"main-info\"]/div[1]/div[1]/div/b'\n",
    "\n",
    "service = webdriver.ChromeService()\n",
    "driver = webdriver.Chrome(service=service)\n",
    "driver.get(url)\n",
    "\n",
    "try:\n",
    "    success = WebDriverWait(driver, 10).until(EC.presence_of_element_located((By.XPATH, success_Xpath))).text\n",
    "    print(success)\n",
    "except:\n",
    "        print(\"Something failed\")\n",
    "\n",
    "driver.quit()"
   ]
  },
  {
   "cell_type": "markdown",
   "id": "0328218b-941c-4b5d-a74b-38042e66a7d2",
   "metadata": {},
   "source": [
    "# Vscout (Avalanche)"
   ]
  },
  {
   "cell_type": "code",
   "execution_count": 27,
   "id": "0b00d1c6-c20f-4812-87ee-9505e1e5a3d8",
   "metadata": {},
   "outputs": [
    {
     "name": "stdout",
     "output_type": "stream",
     "text": [
      "99.907 %\n",
      "CONNECTED\n"
     ]
    }
   ],
   "source": [
    "url = \"https://vscout.io/validator/NodeID-D12qpTYhB3feogxvMBzS1QPvwyKyhRK8G\"\n",
    "up_Xpath = '//*[@id=\"q-app\"]/div/div[2]/main/div/span/div/div[1]/div[3]/div[2]/div[1]/div/div[2]/div/div[1]/span[2]/span'\n",
    "on_Xpath = '//*[@id=\"q-app\"]/div/div[2]/main/div/span/div/div[1]/div[3]/div[2]/div[1]/div/div[1]/div[2]/span'\n",
    "\n",
    "service = webdriver.ChromeService()\n",
    "driver = webdriver.Chrome(service=service)\n",
    "driver.get(url)\n",
    "\n",
    "try:\n",
    "    up = WebDriverWait(driver, 10).until(EC.presence_of_element_located((By.XPATH, up_Xpath))).text\n",
    "    print(up)\n",
    "    on = WebDriverWait(driver, 10).until(EC.presence_of_element_located((By.XPATH, on_Xpath))).text\n",
    "    print(on)\n",
    "except:\n",
    "        print(\"Something failed\")\n",
    "\n",
    "driver.quit()"
   ]
  }
 ],
 "metadata": {
  "kernelspec": {
   "display_name": "Python 3 (ipykernel)",
   "language": "python",
   "name": "python3"
  },
  "language_info": {
   "codemirror_mode": {
    "name": "ipython",
    "version": 3
   },
   "file_extension": ".py",
   "mimetype": "text/x-python",
   "name": "python",
   "nbconvert_exporter": "python",
   "pygments_lexer": "ipython3",
   "version": "3.11.4"
  }
 },
 "nbformat": 4,
 "nbformat_minor": 5
}
