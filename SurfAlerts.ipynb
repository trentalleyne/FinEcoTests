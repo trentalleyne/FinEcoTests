{
 "cells": [
  {
   "cell_type": "code",
   "execution_count": 51,
   "id": "b54be75f-157d-4362-a54e-3b5b2046374d",
   "metadata": {},
   "outputs": [],
   "source": [
    "import pandas as pd\n",
    "import numpy as np\n",
    "from numpy import nan\n",
    "\n",
    "from selenium import webdriver\n",
    "from selenium.webdriver.common.by import By\n",
    "from selenium.webdriver.common.keys import Keys\n",
    "from selenium.webdriver.chrome.service import Service\n",
    "\n",
    "from selenium.webdriver import ActionChains\n",
    "from selenium.webdriver.common.by import By\n",
    "from webdriver_manager.chrome import ChromeDriverManager\n",
    "from selenium.webdriver.support.ui import WebDriverWait\n",
    "from selenium.webdriver.support import expected_conditions as EC\n",
    "import time\n",
    "\n",
    "import re\n",
    "\n",
    "from selenium import webdriver\n",
    "from selenium.webdriver.chrome.options import Options"
   ]
  },
  {
   "cell_type": "code",
   "execution_count": 52,
   "id": "62302957-4e52-4fd3-aa21-51de68ac893a",
   "metadata": {},
   "outputs": [],
   "source": [
    "url = \"https://www.windguru.cz/208690\""
   ]
  },
  {
   "cell_type": "code",
   "execution_count": 72,
   "id": "75dab55e-09ef-497a-a6f7-8005cae74fd9",
   "metadata": {},
   "outputs": [],
   "source": [
    "Xdates = '//*[@id=\"tabid_0_0_dates\"]'\n",
    "Xwind = '//*[@id=\"tabid_0_0_WINDSPD\"]'\n",
    "Xgusts = '//*[@id=\"tabid_0_0_GUST\"]'\n",
    "XwindDirection = '//*[@id=\"tabid_0_0_SMER\"]'\n",
    "Xswell = '//*[@id=\"tabid_0_0_HTSGW\"]'\n",
    "Xperiod = '//*[@id=\"tabid_0_0_PERPW\"]'\n",
    "XswellDirection = '//*[@id=\"tabid_0_0_DIRPW\"]'\n",
    "\n",
    "options = Options()\n",
    "options.add_argument(\"--headless=new\")\n",
    "service = webdriver.ChromeService()\n",
    "driver = webdriver.Chrome(service=service, options=options)\n",
    "driver.get(url)\n",
    "\n",
    "try:\n",
    "    dates = WebDriverWait(driver, 10).until(EC.presence_of_element_located((By.XPATH, Xdates))).text\n",
    "    #print(dates)\n",
    "    wind = WebDriverWait(driver, 10).until(EC.presence_of_element_located((By.XPATH, Xwind))).text\n",
    "    #print(wind)\n",
    "    gusts = WebDriverWait(driver, 10).until(EC.presence_of_element_located((By.XPATH, Xgusts))).text\n",
    "    #print(gusts)\n",
    "    wind_element = WebDriverWait(driver, 10).until(EC.presence_of_element_located((By.XPATH, XwindDirection)))\n",
    "    span_elements = WebDriverWait(wind_element, 10).until(EC.presence_of_all_elements_located((By.XPATH, './/span[@title]')))\n",
    "    windDirections = []\n",
    "    for span_element in span_elements:\n",
    "        span_title = span_element.get_attribute('title')\n",
    "        windDirections.append(span_title)\n",
    "    #print(windDirection)\n",
    "    swell = WebDriverWait(driver, 10).until(EC.presence_of_element_located((By.XPATH, Xswell))).text\n",
    "    #print(swell)\n",
    "    period = WebDriverWait(driver, 10).until(EC.presence_of_element_located((By.XPATH, Xperiod))).text\n",
    "    #print(period)\n",
    "    \n",
    "    swell_element = WebDriverWait(driver, 10).until(EC.presence_of_element_located((By.XPATH, XswellDirection)))\n",
    "    span_elements = WebDriverWait(swell_element, 10).until(EC.presence_of_all_elements_located((By.XPATH, './/span[@title]')))\n",
    "    swellDirections = []\n",
    "    for span_element in span_elements:\n",
    "        span_title = span_element.get_attribute('title')\n",
    "        swellDirections.append(span_title)\n",
    "    #print(windDirection)\n",
    "except:\n",
    "        print(\"Something failed\")\n",
    "driver.quit()"
   ]
  },
  {
   "cell_type": "code",
   "execution_count": 54,
   "id": "174cedef-12bb-4e1e-98af-0c069eaec098",
   "metadata": {},
   "outputs": [],
   "source": [
    "dates = dates.split('\\n')\n",
    "dates = dates[1:]"
   ]
  },
  {
   "cell_type": "code",
   "execution_count": 55,
   "id": "a0ff699d-31ca-4589-87aa-9559feb726dc",
   "metadata": {},
   "outputs": [],
   "source": [
    "datesList = []\n",
    "counter = 0\n",
    "for date in dates:\n",
    "    if counter%2 != 0:\n",
    "        datesList.append(date + \" \" + dates[counter-1])\n",
    "    counter += 1"
   ]
  },
  {
   "cell_type": "code",
   "execution_count": 56,
   "id": "bbe136f4-064e-4bfc-a3da-684565c9904e",
   "metadata": {},
   "outputs": [],
   "source": [
    "index = ['wind', 'gusts', 'windDirection', 'swell', 'period', 'swellDirection']"
   ]
  },
  {
   "cell_type": "code",
   "execution_count": 57,
   "id": "4946344a-2b24-42c1-8009-f6af81cad1db",
   "metadata": {},
   "outputs": [],
   "source": [
    "df = pd.DataFrame(columns = datesList, index=index)"
   ]
  },
  {
   "cell_type": "code",
   "execution_count": 58,
   "id": "7cb519a9-a2e2-40ed-b893-026cea8bb1f3",
   "metadata": {},
   "outputs": [],
   "source": [
    "windList = wind.split()"
   ]
  },
  {
   "cell_type": "code",
   "execution_count": 59,
   "id": "8fb477eb-4338-45af-9339-d53deed081ea",
   "metadata": {},
   "outputs": [],
   "source": [
    "df.loc['wind'] = windList"
   ]
  },
  {
   "cell_type": "code",
   "execution_count": 60,
   "id": "8c4314f5-b01f-4129-9d33-d0d6e61aaf5f",
   "metadata": {},
   "outputs": [],
   "source": [
    "gustsList = gusts.split()"
   ]
  },
  {
   "cell_type": "code",
   "execution_count": 61,
   "id": "ff2640ad-fe0d-48e4-b0d1-c03604da0e80",
   "metadata": {},
   "outputs": [],
   "source": [
    "df.loc['gusts'] = gustsList"
   ]
  },
  {
   "cell_type": "code",
   "execution_count": 62,
   "id": "2e694fd5-9fc0-4868-8a0c-ebaf68d526bc",
   "metadata": {},
   "outputs": [],
   "source": [
    "df.loc['windDirection'] = windDirections"
   ]
  },
  {
   "cell_type": "code",
   "execution_count": 63,
   "id": "9a2af682-fe07-4199-a24e-d9e55d27bd26",
   "metadata": {},
   "outputs": [],
   "source": [
    "swell = swell.split()\n",
    "df.loc['swell'] = swell"
   ]
  },
  {
   "cell_type": "code",
   "execution_count": 64,
   "id": "58fa4780-a61b-441c-9a8b-dcea266e3cd1",
   "metadata": {},
   "outputs": [],
   "source": [
    "period = period.split()\n",
    "df.loc['period'] = period"
   ]
  },
  {
   "cell_type": "code",
   "execution_count": 65,
   "id": "6d019893-fe4d-433c-bf79-916ce03fa48b",
   "metadata": {},
   "outputs": [],
   "source": [
    "df.loc['swellDirection'] = swellDirections"
   ]
  },
  {
   "cell_type": "code",
   "execution_count": 66,
   "id": "57c17489-5b3a-4d3f-b235-09cf5b8c4632",
   "metadata": {},
   "outputs": [
    {
     "data": {
      "text/html": [
       "<div>\n",
       "<style scoped>\n",
       "    .dataframe tbody tr th:only-of-type {\n",
       "        vertical-align: middle;\n",
       "    }\n",
       "\n",
       "    .dataframe tbody tr th {\n",
       "        vertical-align: top;\n",
       "    }\n",
       "\n",
       "    .dataframe thead th {\n",
       "        text-align: right;\n",
       "    }\n",
       "</style>\n",
       "<table border=\"1\" class=\"dataframe\">\n",
       "  <thead>\n",
       "    <tr style=\"text-align: right;\">\n",
       "      <th></th>\n",
       "      <th>11h Mo 4.</th>\n",
       "      <th>13h Mo 4.</th>\n",
       "      <th>15h Mo 4.</th>\n",
       "      <th>17h Mo 4.</th>\n",
       "      <th>19h Mo 4.</th>\n",
       "      <th>21h Tu 4.</th>\n",
       "      <th>03h Tu 5.</th>\n",
       "      <th>05h Tu 5.</th>\n",
       "      <th>07h Tu 5.</th>\n",
       "      <th>09h Tu 5.</th>\n",
       "      <th>...</th>\n",
       "      <th>11h Mo 18.</th>\n",
       "      <th>14h Mo 18.</th>\n",
       "      <th>17h Mo 18.</th>\n",
       "      <th>20h Tu 18.</th>\n",
       "      <th>05h Tu 19.</th>\n",
       "      <th>08h Tu 19.</th>\n",
       "      <th>11h Tu 19.</th>\n",
       "      <th>14h Tu 19.</th>\n",
       "      <th>17h Tu 19.</th>\n",
       "      <th>20h 19.</th>\n",
       "    </tr>\n",
       "  </thead>\n",
       "  <tbody>\n",
       "    <tr>\n",
       "      <th>wind</th>\n",
       "      <td>14</td>\n",
       "      <td>12</td>\n",
       "      <td>11</td>\n",
       "      <td>13</td>\n",
       "      <td>11</td>\n",
       "      <td>9</td>\n",
       "      <td>3</td>\n",
       "      <td>3</td>\n",
       "      <td>4</td>\n",
       "      <td>4</td>\n",
       "      <td>...</td>\n",
       "      <td>13</td>\n",
       "      <td>15</td>\n",
       "      <td>15</td>\n",
       "      <td>14</td>\n",
       "      <td>11</td>\n",
       "      <td>8</td>\n",
       "      <td>7</td>\n",
       "      <td>8</td>\n",
       "      <td>7</td>\n",
       "      <td>7</td>\n",
       "    </tr>\n",
       "    <tr>\n",
       "      <th>gusts</th>\n",
       "      <td>16</td>\n",
       "      <td>14</td>\n",
       "      <td>12</td>\n",
       "      <td>14</td>\n",
       "      <td>12</td>\n",
       "      <td>13</td>\n",
       "      <td>5</td>\n",
       "      <td>4</td>\n",
       "      <td>5</td>\n",
       "      <td>5</td>\n",
       "      <td>...</td>\n",
       "      <td>16</td>\n",
       "      <td>17</td>\n",
       "      <td>16</td>\n",
       "      <td>17</td>\n",
       "      <td>14</td>\n",
       "      <td>10</td>\n",
       "      <td>7</td>\n",
       "      <td>6</td>\n",
       "      <td>7</td>\n",
       "      <td>10</td>\n",
       "    </tr>\n",
       "    <tr>\n",
       "      <th>windDirection</th>\n",
       "      <td>S (175°)</td>\n",
       "      <td>SSE (166°)</td>\n",
       "      <td>SSE (167°)</td>\n",
       "      <td>SSE (156°)</td>\n",
       "      <td>SE (146°)</td>\n",
       "      <td>SE (145°)</td>\n",
       "      <td>SSE (158°)</td>\n",
       "      <td>SSW (194°)</td>\n",
       "      <td>S (179°)</td>\n",
       "      <td>SSE (152°)</td>\n",
       "      <td>...</td>\n",
       "      <td>SSW (192°)</td>\n",
       "      <td>SSE (167°)</td>\n",
       "      <td>SSE (148°)</td>\n",
       "      <td>SSE (155°)</td>\n",
       "      <td>SSE (165°)</td>\n",
       "      <td>S (176°)</td>\n",
       "      <td>SSE (167°)</td>\n",
       "      <td>SE (125°)</td>\n",
       "      <td>ESE (108°)</td>\n",
       "      <td>ENE (73°)</td>\n",
       "    </tr>\n",
       "    <tr>\n",
       "      <th>swell</th>\n",
       "      <td>3.3</td>\n",
       "      <td>3.2</td>\n",
       "      <td>3.1</td>\n",
       "      <td>3.1</td>\n",
       "      <td>3.1</td>\n",
       "      <td>3</td>\n",
       "      <td>2.6</td>\n",
       "      <td>2.5</td>\n",
       "      <td>2.5</td>\n",
       "      <td>2.4</td>\n",
       "      <td>...</td>\n",
       "      <td>1.7</td>\n",
       "      <td>1.9</td>\n",
       "      <td>2.2</td>\n",
       "      <td>2.3</td>\n",
       "      <td>2.9</td>\n",
       "      <td>2.8</td>\n",
       "      <td>2.6</td>\n",
       "      <td>2.4</td>\n",
       "      <td>2.2</td>\n",
       "      <td>2</td>\n",
       "    </tr>\n",
       "    <tr>\n",
       "      <th>period</th>\n",
       "      <td>10</td>\n",
       "      <td>10</td>\n",
       "      <td>10</td>\n",
       "      <td>15</td>\n",
       "      <td>14</td>\n",
       "      <td>14</td>\n",
       "      <td>13</td>\n",
       "      <td>13</td>\n",
       "      <td>13</td>\n",
       "      <td>13</td>\n",
       "      <td>...</td>\n",
       "      <td>10</td>\n",
       "      <td>6</td>\n",
       "      <td>7</td>\n",
       "      <td>8</td>\n",
       "      <td>10</td>\n",
       "      <td>10</td>\n",
       "      <td>12</td>\n",
       "      <td>13</td>\n",
       "      <td>13</td>\n",
       "      <td>12</td>\n",
       "    </tr>\n",
       "    <tr>\n",
       "      <th>swellDirection</th>\n",
       "      <td>S (178°)</td>\n",
       "      <td>S (177°)</td>\n",
       "      <td>S (177°)</td>\n",
       "      <td>S (173°)</td>\n",
       "      <td>S (172°)</td>\n",
       "      <td>S (172°)</td>\n",
       "      <td>S (171°)</td>\n",
       "      <td>S (170°)</td>\n",
       "      <td>S (170°)</td>\n",
       "      <td>S (170°)</td>\n",
       "      <td>...</td>\n",
       "      <td>S (183°)</td>\n",
       "      <td>S (176°)</td>\n",
       "      <td>S (169°)</td>\n",
       "      <td>SSE (167°)</td>\n",
       "      <td>S (174°)</td>\n",
       "      <td>S (174°)</td>\n",
       "      <td>S (174°)</td>\n",
       "      <td>S (173°)</td>\n",
       "      <td>S (173°)</td>\n",
       "      <td>S (172°)</td>\n",
       "    </tr>\n",
       "  </tbody>\n",
       "</table>\n",
       "<p>6 rows × 111 columns</p>\n",
       "</div>"
      ],
      "text/plain": [
       "               11h Mo 4.   13h Mo 4.   15h Mo 4.   17h Mo 4.  19h Mo 4.  \\\n",
       "wind                  14          12          11          13         11   \n",
       "gusts                 16          14          12          14         12   \n",
       "windDirection   S (175°)  SSE (166°)  SSE (167°)  SSE (156°)  SE (146°)   \n",
       "swell                3.3         3.2         3.1         3.1        3.1   \n",
       "period                10          10          10          15         14   \n",
       "swellDirection  S (178°)    S (177°)    S (177°)    S (173°)   S (172°)   \n",
       "\n",
       "                21h Tu 4.   03h Tu 5.   05h Tu 5. 07h Tu 5.   09h Tu 5.  ...  \\\n",
       "wind                    9           3           3         4           4  ...   \n",
       "gusts                  13           5           4         5           5  ...   \n",
       "windDirection   SE (145°)  SSE (158°)  SSW (194°)  S (179°)  SSE (152°)  ...   \n",
       "swell                   3         2.6         2.5       2.5         2.4  ...   \n",
       "period                 14          13          13        13          13  ...   \n",
       "swellDirection   S (172°)    S (171°)    S (170°)  S (170°)    S (170°)  ...   \n",
       "\n",
       "                11h Mo 18.  14h Mo 18.  17h Mo 18.  20h Tu 18.  05h Tu 19.  \\\n",
       "wind                    13          15          15          14          11   \n",
       "gusts                   16          17          16          17          14   \n",
       "windDirection   SSW (192°)  SSE (167°)  SSE (148°)  SSE (155°)  SSE (165°)   \n",
       "swell                  1.7         1.9         2.2         2.3         2.9   \n",
       "period                  10           6           7           8          10   \n",
       "swellDirection    S (183°)    S (176°)    S (169°)  SSE (167°)    S (174°)   \n",
       "\n",
       "               08h Tu 19.  11h Tu 19. 14h Tu 19.  17h Tu 19.    20h 19.  \n",
       "wind                    8           7          8           7          7  \n",
       "gusts                  10           7          6           7         10  \n",
       "windDirection    S (176°)  SSE (167°)  SE (125°)  ESE (108°)  ENE (73°)  \n",
       "swell                 2.8         2.6        2.4         2.2          2  \n",
       "period                 10          12         13          13         12  \n",
       "swellDirection   S (174°)    S (174°)   S (173°)    S (173°)   S (172°)  \n",
       "\n",
       "[6 rows x 111 columns]"
      ]
     },
     "execution_count": 66,
     "metadata": {},
     "output_type": "execute_result"
    }
   ],
   "source": [
    "df"
   ]
  },
  {
   "cell_type": "code",
   "execution_count": 67,
   "id": "75388e78-cc31-428d-81ae-e19e59eec8da",
   "metadata": {},
   "outputs": [],
   "source": [
    "df.loc['wind']=df.loc['wind'].astype(int)\n",
    "df.loc['gusts']=df.loc['gusts'].astype(int)\n",
    "df.loc['swell']=df.loc['swell'].astype(float)\n",
    "df.loc['period']=df.loc['period'].astype(int)"
   ]
  },
  {
   "cell_type": "code",
   "execution_count": 68,
   "id": "237c559d-ed61-4c0d-8dfd-ab2cc131b270",
   "metadata": {},
   "outputs": [
    {
     "data": {
      "text/plain": [
       "3.3"
      ]
     },
     "execution_count": 68,
     "metadata": {},
     "output_type": "execute_result"
    }
   ],
   "source": [
    "df.loc['swell'][0]"
   ]
  },
  {
   "cell_type": "code",
   "execution_count": 70,
   "id": "0a50a84a-3dc4-4776-a223-1c8ea12cda26",
   "metadata": {},
   "outputs": [
    {
     "name": "stdout",
     "output_type": "stream",
     "text": [
      "possible days/times to look out for:\n",
      "05h Tu 5.\n"
     ]
    }
   ],
   "source": [
    "print(\"possible days/times to look out for:\")\n",
    "for col_index, col in enumerate(df):\n",
    "    #day = col.split()[1])\n",
    "    if(df.loc['swell'][col_index] > 2.0 and (df.loc['windDirection'][col_index].split()[0] in {'W', 'NW', 'SW', 'NNW', 'SSW', 'WNW', 'WSW'})):\n",
    "        print(col)"
   ]
  },
  {
   "cell_type": "code",
   "execution_count": null,
   "id": "bf323b66-960c-4e4d-9d35-c763c135e18a",
   "metadata": {},
   "outputs": [],
   "source": []
  }
 ],
 "metadata": {
  "kernelspec": {
   "display_name": "Python 3 (ipykernel)",
   "language": "python",
   "name": "python3"
  },
  "language_info": {
   "codemirror_mode": {
    "name": "ipython",
    "version": 3
   },
   "file_extension": ".py",
   "mimetype": "text/x-python",
   "name": "python",
   "nbconvert_exporter": "python",
   "pygments_lexer": "ipython3",
   "version": "3.11.4"
  }
 },
 "nbformat": 4,
 "nbformat_minor": 5
}
